{
  "nbformat": 4,
  "nbformat_minor": 0,
  "metadata": {
    "colab": {
      "provenance": [],
      "gpuType": "T4",
      "authorship_tag": "ABX9TyNVc0w8I2vfHhArbdYaFvJN",
      "include_colab_link": true
    },
    "kernelspec": {
      "name": "python3",
      "display_name": "Python 3"
    },
    "language_info": {
      "name": "python"
    }
  },
  "cells": [
    {
      "cell_type": "markdown",
      "metadata": {
        "id": "view-in-github",
        "colab_type": "text"
      },
      "source": [
        "<a href=\"https://colab.research.google.com/github/Secatorrez/uouw_py_ml/blob/main/Zadanie_Deklarowanie_zmiennych_w_Pythonie.ipynb\" target=\"_parent\"><img src=\"https://colab.research.google.com/assets/colab-badge.svg\" alt=\"Open In Colab\"/></a>"
      ]
    },
    {
      "cell_type": "code",
      "execution_count": null,
      "metadata": {
        "colab": {
          "base_uri": "https://localhost:8080/"
        },
        "id": "reLXlyqg1awq",
        "outputId": "886c3b88-f2f1-446a-e49f-b7b6b533ea67"
      },
      "outputs": [
        {
          "output_type": "stream",
          "name": "stdout",
          "text": [
            "Całkowita: 12345 zmienno przecinkowa: 888744.83768864\n"
          ]
        }
      ],
      "source": [
        "# Zadanie 1. Deklarowanie zmiennych liczbowych:\n",
        "#  Zadeklaruj zmienną całkowitą o nazwie \"liczba_calkowita\" i przypisz jej dowolną wartość całkowitą.\n",
        "#    Zadeklaruj zmienną zmiennoprzecinkową o nazwie \"liczba_zmiennoprzecinkowa\" i przypisz jej dowolną wartość zmiennoprzecinkową.\n",
        "#    Wyświetl na ekranie wartości obu zmiennych.\n",
        "liczba_calkowita = 12345\n",
        "liczba_zmiennoprzecinkowa = 888744.83768864\n",
        "print(\"Całkowita:\",liczba_calkowita,\"zmienno przecinkowa:\",liczba_zmiennoprzecinkowa)"
      ]
    },
    {
      "cell_type": "code",
      "source": [],
      "metadata": {
        "id": "Ves_HIZzf14_"
      },
      "execution_count": null,
      "outputs": []
    },
    {
      "cell_type": "code",
      "source": [
        "# Zadanie 2. Deklarowanie zmiennych tekstowych:\n",
        "#\n",
        "#   Zadeklaruj zmienną tekstową o nazwie \"tekst\" i przypisz jej dowolny napis.\n",
        "#   Zadeklaruj zmienną typu łańcuchowego (string) o nazwie \"imie\" i przypisz jej swoje imię.\n",
        "#   Wyświetl na ekranie wartości obu zmiennych.\n",
        "# -----------------------------------------------------------\n",
        "tekst = \"QWEaaaRTY\"\n",
        "imie = \"Tomek\"\n",
        "print(\"Zawartość tekst=\"+tekst)\n",
        "print(\"Mam na imię \"+imie)"
      ],
      "metadata": {
        "colab": {
          "base_uri": "https://localhost:8080/"
        },
        "id": "uQzn8a1k3Eb4",
        "outputId": "65f29086-3d2e-4640-eba9-e78ec637df69"
      },
      "execution_count": null,
      "outputs": [
        {
          "output_type": "stream",
          "name": "stdout",
          "text": [
            "Zawartość tekst=QWEaaaRTY\n",
            "Mam na imię Tomek\n"
          ]
        }
      ]
    },
    {
      "cell_type": "code",
      "source": [
        "# Zadanie 3. Deklarowanie zmiennych logicznych:\n",
        "#\n",
        "#    Zadeklaruj zmienną logiczną o nazwie \"prawda\" i przypisz jej wartość True.\n",
        "#    Zadeklaruj zmienną logiczną o nazwie \"falsz\" i przypisz jej wartość False.\n",
        "#    Wyświetl na ekranie wartości obu zmiennych.\n",
        "\n",
        "prawda = True\n",
        "falsz = False\n",
        "print(\"Prawda=\",prawda,  \"\\nFałsz=\", falsz)"
      ],
      "metadata": {
        "colab": {
          "base_uri": "https://localhost:8080/"
        },
        "id": "qij0jcZ-5qJ8",
        "outputId": "c6a3d09d-701e-4c81-ffcb-44943937a77e"
      },
      "execution_count": null,
      "outputs": [
        {
          "output_type": "stream",
          "name": "stdout",
          "text": [
            "Prawda= True \n",
            "Fałsz= False\n"
          ]
        }
      ]
    },
    {
      "cell_type": "code",
      "source": [
        "#Zadanie 4. Deklarowanie zmiennych jako puste (None):\n",
        "#\n",
        "#    Zadeklaruj zmienną o nazwie \"pusta\" i przypisz jej wartość None.\n",
        "#    Wyświetl na ekranie wartość zmiennej.\n",
        "\n",
        "pusta = None\n",
        "print(\"Zmianna pusta\",pusta)"
      ],
      "metadata": {
        "colab": {
          "base_uri": "https://localhost:8080/"
        },
        "id": "_7wdEx2i97n-",
        "outputId": "79270f8b-b9ca-441d-bf74-258c6d18f00f"
      },
      "execution_count": null,
      "outputs": [
        {
          "output_type": "stream",
          "name": "stdout",
          "text": [
            "Zmianna pusta None\n"
          ]
        }
      ]
    },
    {
      "cell_type": "code",
      "source": [
        "# Zadanie: Wyświetlanie komunikatów i formatowanie napisów\n",
        "#\n",
        "# Opis zadania: Napisz program, który będzie wyświetlał różne komunikaty na ekranie i będzie wykorzystywał formatowanie napisów. Program powinien zawierać następujące czynności:\n",
        "#\n",
        "#     Wyświetlanie prostego komunikatu:\n",
        "#         Wyświetl na ekranie komunikat powitalny, np. \"Witaj w programie wyświetlającym komunikaty!\".\n",
        "print(\"Witaj w programie wyświetlającym komunikaty!\")\n",
        "\n",
        "#\n",
        "#     Wyświetlanie komunikatu z wartościami zmiennych:\n",
        "#         Zadeklaruj dwie zmienne, np. \"imie\" i \"wiek\", i przypisz im odpowiednie wartości.\n",
        "#         Wyświetl komunikat zawierający wartości tych zmiennych, np. \"Cześć, nazywam się {imie} i mam {wiek} lat.\"\n",
        "imie = \"Sędzimir\"\n",
        "wiek = \"99\"\n",
        "print(\"Cześć nazywam się\",imie,\"i mam\",wiek,\"lat\")\n",
        "\n",
        "#\n",
        "#     Formatowanie napisów:\n",
        "#         Zadeklaruj zmienną, np. \"kwota\", i przypisz jej wartość liczbową, np. 127.56.\n",
        "#         Wyświetl komunikat, który sformatuje wartość zmiennej \"kwota\" do dwóch miejsc po przecinku, np. \"Wartość to: 127.56 zł\".\n",
        "kwota = 1500.968\n",
        "print(\"kwota %.2f zł\" % kwota)\n",
        "#\n",
        "#     Wykorzystanie różnych metod formatowania:\n",
        "#         Zadeklaruj zmienną, np. \"produkt\", i przypisz jej wartość tekstu, np. \"telewizor\".\n",
        "#         Wyświetl komunikat, który będzie łączył tekst z wartościami zmiennych w różny sposób, np. \"Dziś kupiłem sobie nowy {produkt} za {kwota:.2f} zł.\".\n",
        "#\n",
        "kwota *= 2\n",
        "produkt = 'dwa razy droższy telewizor'\n",
        "print(f\"Dziś kupiłem sobie nowy {produkt} za {kwota:.2f} zł.\")\n"
      ],
      "metadata": {
        "colab": {
          "base_uri": "https://localhost:8080/"
        },
        "id": "UuP0SCXhC2ot",
        "outputId": "feec3648-4fba-4eea-abef-685f55babbac"
      },
      "execution_count": null,
      "outputs": [
        {
          "output_type": "stream",
          "name": "stdout",
          "text": [
            "Witaj w programie wyświetlającym komunikaty!\n",
            "Cześć nazywam się Sędzimir i mam 99 lat\n",
            "kwota 1500.97 zł\n",
            "Dziś kupiłem sobie nowy dwa razy droższy telewizor za 3001.94 zł.\n"
          ]
        }
      ]
    },
    {
      "cell_type": "code",
      "source": [
        "#Zadanie listy\n",
        "#\n",
        "#Zadanie: Deklaracja listy w Pythonie\n",
        "#\n",
        "#Opis zadania: Napisz program, który będzie zawierał deklarację listy w Pythonie. Program powinien zawierać następujące czynności:\n",
        "#\n",
        "#    Deklaracja i inicjalizacja listy:\n",
        "#        Zadeklaruj listę o nazwie \"moja_lista\".\n",
        "#        Dodaj do listy kilka dowolnych elementów, np. liczby całkowite, napisy lub wartości logiczne.\n",
        "#        Wyświetl na ekranie zawartość listy.\n",
        "moja_lista1 = [\"sdfsdf\", \"AAAAAAAAAA\", \"GGGGGGGGGGGGGGGG\",\"FFFFFFFFFFF\"]\n",
        "moja_lista2 = [\"DDDDD\", \"bbbbbbbb\", \"Ggggggggggg\"]\n",
        "suma_list = moja_lista1 + moja_lista2\n",
        "print(\"Moja lista1\", moja_lista1)\n",
        "print(\"Moja lista2\", moja_lista2)\n",
        "print(\"Suma\", suma_list)\n",
        "print(\"-------------------------------\")\n",
        "print(\"Posortowane elementy pojedynczo\")\n",
        "suma_list = sorted(suma_list)\n",
        "length = len(suma_list)\n",
        "for i in range(length):\n",
        "  print(suma_list[i])\n",
        "print(\"-------------------------------\")\n"
      ],
      "metadata": {
        "colab": {
          "base_uri": "https://localhost:8080/"
        },
        "id": "wTGnetBrf9eA",
        "outputId": "2131941d-3390-4dfa-e815-7b5cbe8c835c"
      },
      "execution_count": null,
      "outputs": [
        {
          "output_type": "stream",
          "name": "stdout",
          "text": [
            "Moja lista1 ['sdfsdf', 'AAAAAAAAAA', 'GGGGGGGGGGGGGGGG', 'FFFFFFFFFFF']\n",
            "Moja lista2 ['DDDDD', 'bbbbbbbb', 'Ggggggggggg']\n",
            "Suma ['sdfsdf', 'AAAAAAAAAA', 'GGGGGGGGGGGGGGGG', 'FFFFFFFFFFF', 'DDDDD', 'bbbbbbbb', 'Ggggggggggg']\n",
            "-------------------------------\n",
            "Posortowane elementy pojedynczo\n",
            "AAAAAAAAAA\n",
            "DDDDD\n",
            "FFFFFFFFFFF\n",
            "GGGGGGGGGGGGGGGG\n",
            "Ggggggggggg\n",
            "bbbbbbbb\n",
            "sdfsdf\n",
            "-------------------------------\n"
          ]
        }
      ]
    },
    {
      "cell_type": "code",
      "source": [],
      "metadata": {
        "id": "KtrICBa0_mOi"
      },
      "execution_count": null,
      "outputs": []
    },
    {
      "cell_type": "code",
      "source": [
        "#Modyfikacja elementów listy:\n",
        "#\n",
        "#    Zmodyfikuj wartość jednego z elementów listy.\n",
        "#    Wyświetl na ekranie zaktualizowaną zawartość listy.\n",
        "moja_lista3 = [\"AAA\", \"BBB\", \"CCC\"] # mod.0\n",
        "print(\"mod.0\", moja_lista3)\n",
        "moja_lista3[1] = \"XXX\"              # mod.1\n",
        "print(\"mod.1\",moja_lista3)\n",
        "\n",
        "#Dodawanie elementów do listy:\n",
        "#\n",
        "#    Dodaj nowy element na koniec listy.\n",
        "#    Wyświetl na ekranie zaktualizowaną zawartość listy.\n",
        "moja_lista3 += [\"DDD\"]              # mod.2a\n",
        "print(\"mod.2a\", moja_lista3)\n",
        "moja_lista3.append(\"EEE\")           # mod.2b\n",
        "print(\"mod.2b\", moja_lista3)\n",
        "\n",
        "#Usuwanie elementów z listy:\n",
        "#\n",
        "#    Usuń jeden z elementów z listy.\n",
        "#    Wyświetl na ekranie zaktualizowaną zawartość listy.\n",
        "moja_lista3.remove(\"CCC\")           # mod.3A\n",
        "print(\"mod.3a\",moja_lista3)\n",
        "moja_lista3.pop(2)                  # mod.3B\n",
        "print(\"mod.3b\",moja_lista3)\n",
        "\n",
        "# inne \"zabawy\" z metodami listy\n",
        "moja_lista3.reverse()               # mod.4\n",
        "print(\"mod.4\",moja_lista3)\n",
        "moja_lista3.insert(0, \"ZZZ\")        # mod.5\n",
        "print(\"mod.5\",moja_lista3)\n"
      ],
      "metadata": {
        "colab": {
          "base_uri": "https://localhost:8080/"
        },
        "id": "l0Kze45h1ett",
        "outputId": "ceb64dcc-f7a9-40a1-e705-f92dd9a26889"
      },
      "execution_count": null,
      "outputs": [
        {
          "output_type": "stream",
          "name": "stdout",
          "text": [
            "mod.0 ['AAA', 'BBB', 'CCC']\n",
            "mod.1 ['AAA', 'XXX', 'CCC']\n",
            "mod.2a ['AAA', 'XXX', 'CCC', 'DDD']\n",
            "mod.2b ['AAA', 'XXX', 'CCC', 'DDD', 'EEE']\n",
            "mod.3a ['AAA', 'XXX', 'DDD', 'EEE']\n",
            "mod.3b ['AAA', 'XXX', 'EEE']\n",
            "mod.4 ['EEE', 'XXX', 'AAA']\n",
            "mod.5 ['ZZZ', 'EEE', 'XXX', 'AAA']\n"
          ]
        }
      ]
    },
    {
      "cell_type": "code",
      "source": [
        "#----------------------------------------------------------------\n",
        "# najpierw sobie zdefiniuję funkcję do szukania elementu listy z wbudowaną obsługą błedu jeśli elementu nie ma\n",
        "# i zwracająca pozycję elementu na liście jeśli znaleziono element\n",
        "def chk_el_list(in_list, in_elem):\n",
        "  try:\n",
        "    indx = in_list.index(in_elem)\n",
        "    print(\"Liczba \", in_elem, \"jest na pozycji\", indx+1)\n",
        "    return indx\n",
        "  except ValueError:\n",
        "    print(\"Liczba \", in_elem, \"nie występuje na liście\")\n",
        "    return -1\n",
        "\n",
        "# Zadanie: Operacje na listach\n",
        "#\n",
        "# Opis zadania: Napisz program, który będzie wykonywał różne operacje na listach w Pythonie. Program powinien zawierać następujące czynności:\n",
        "#\n",
        "#     Tworzenie listy:\n",
        "#         Zadeklaruj pustą listę o nazwie \"lista\".\n",
        "#         Dodaj kilka liczb całkowitych do listy.\n",
        "#         Wyświetl na ekranie zawartość listy.\n",
        "lista = []\n",
        "print(\"pusta lista\",lista)\n",
        "lista.append(1)\n",
        "lista.append(9)\n",
        "lista.append(3)\n",
        "print(\"lista append 3 razy\",lista)\n",
        "lista.extend([73,15,6])\n",
        "print(\"lista extend od razu kilka elementów\",lista)\n",
        "#\n",
        "#     Sumowanie elementów listy:\n",
        "#         Oblicz sumę wszystkich elementów z listy.\n",
        "#         Wyświetl na ekranie wynik.\n",
        "#\n",
        "length = len(lista)\n",
        "suma = 0\n",
        "for i in range(length):\n",
        "  suma += lista[i]\n",
        "print(\"Lista ma\", length, \"elementów. Suma wszystkich elementów to\", suma)\n",
        "\n",
        "#     Sortowanie listy:\n",
        "#         Posortuj elementy listy w kolejności rosnącej.\n",
        "#         Wyświetl na ekranie posortowaną listę.\n",
        "lista = sorted(lista)\n",
        "print(\"Posortowana lista:\", lista)\n",
        "\n",
        "#\n",
        "#     Wyszukiwanie elementu w liście:\n",
        "#         Sprawdź, czy liczba 10 znajduje się w liście.\n",
        "#         Wyświetl na ekranie odpowiedni komunikat.\n",
        "szukaj = 10\n",
        "chk_el_list(lista, szukaj)\n",
        "\n",
        "#\n",
        "#     Usuwanie elementów z listy:\n",
        "#         Wprowadzenie liczbę całkowitą do usunięcia.\n",
        "#         Jeśli ta liczba znajduje się w liście, usuń ją.\n",
        "#         Wyświetl na ekranie zaktualizowaną listę.\n",
        "#\n",
        "szukaj2 = int(input(\"Wprowadź liczbę z listy do usunięcia:\"))\n",
        "pozycja = chk_el_list(lista, szukaj2)\n",
        "if pozycja != -1:\n",
        "  lista.pop(pozycja)\n",
        "print(\"Lista po aktualizacji:\", lista)"
      ],
      "metadata": {
        "colab": {
          "base_uri": "https://localhost:8080/"
        },
        "id": "bpVQV5AOEPJM",
        "outputId": "f5b41bd2-b29a-4d1c-ee6e-a3880144a672"
      },
      "execution_count": null,
      "outputs": [
        {
          "output_type": "stream",
          "name": "stdout",
          "text": [
            "pusta lista []\n",
            "lista append 3 razy [1, 9, 3]\n",
            "lista extend od razu kilka elementów [1, 9, 3, 73, 15, 6]\n",
            "Lista ma 6 elementów. Suma wszystkich elementów to 107\n",
            "Posortowana lista: [1, 3, 6, 9, 15, 73]\n",
            "Liczba  10 nie występuje na liście\n",
            "Wprowadź liczbę z listy do usunięcia:15\n",
            "Liczba  15 jest na pozycji 5\n",
            "Lista po aktualizacji: [1, 3, 6, 9, 73]\n"
          ]
        }
      ]
    },
    {
      "cell_type": "code",
      "source": [
        "#Zadanie instrukcja warunkowa\n",
        "#\n",
        "#Zadanie: Sprawdź ocenę studenta\n",
        "#\n",
        "#    Napisz program, który na podstawie podanej oceny studenta wyświetli odpowiednią wiadomość.\n",
        "#\n",
        "\n",
        "points = int(input(\"Podaj punkty studenta w skali 0-100 :\"))\n",
        "if points >= 90:\n",
        "  ocena_txt = \"bardzo dobra\"\n",
        "elif points >= 80:\n",
        "  ocena_txt = \"dobra\"\n",
        "elif points >= 60:\n",
        "  ocena_txt = \"dostateczna\"\n",
        "elif points >= 40:\n",
        "  ocena_txt = \"mierna\"\n",
        "else:\n",
        "  ocena_txt = \"niedostateczna\"\n",
        "\n",
        "print(\"Ocena studenta jest \"+ocena_txt+\".\")"
      ],
      "metadata": {
        "colab": {
          "base_uri": "https://localhost:8080/"
        },
        "id": "NpBHM-yqZxKQ",
        "outputId": "5f12f264-93c1-48ac-d0f5-6d8869f3ac94"
      },
      "execution_count": null,
      "outputs": [
        {
          "output_type": "stream",
          "name": "stdout",
          "text": [
            "Podaj punkty studenta w skali 0-100 :88\n",
            "Ocena studenta jest dobra.\n"
          ]
        }
      ]
    },
    {
      "cell_type": "markdown",
      "source": [
        "### Zadania, które wykorzystuje moduł math w języku Python:\n",
        "\n",
        "\n",
        "**Zadanie: Obliczanie pola powierzchni koła**\n",
        "\n",
        "- Napisz program, który na podstawie podanego promienia koła obliczy jego pole powierzchni.\n",
        "\n",
        "**Instrukcje:**\n",
        "\n",
        "1. Zaimportuj moduł math.\n",
        "2. Poproś użytkownika o podanie promienia koła.\n",
        "3. Wykorzystaj funkcję math.pi do uzyskania wartości liczby pi.\n",
        "4. Oblicz pole powierzchni koła ze wzoru: A = pi * r^2, gdzie A to pole powierzchni, pi to liczba pi, a r to promień koła.\n",
        "5. Wyświetl obliczone pole powierzchni koła.\n",
        "\n",
        "**Przykładowy kod:**\n",
        "\n",
        "\n",
        "**Przykład działania:**\n",
        "\n",
        "```\n",
        "Podaj promień koła: 3.5\n",
        "Promień: 3.5\n",
        "Pole powierzchni: 38.48451000647496\n",
        "```\n"
      ],
      "metadata": {
        "id": "FM-RYi_7bX9x"
      }
    },
    {
      "cell_type": "code",
      "source": [
        "from math import pow, pi\n",
        "r = float(input(\"Podaj promień koła: \"))\n",
        "p = math.pi * math.pow(r, 2)\n",
        "print(\"Powierzchnia koła to %.2f z dokładnością do 2 miejsc po przecinku.\" % p)"
      ],
      "metadata": {
        "colab": {
          "base_uri": "https://localhost:8080/"
        },
        "id": "L5qw-f6CT2ei",
        "outputId": "4854ac16-e63a-4f8f-b022-bfc72485e5a4"
      },
      "execution_count": null,
      "outputs": [
        {
          "output_type": "stream",
          "name": "stdout",
          "text": [
            "Podaj promień koła: 5\n",
            "Powierzchnia koła to 78.54 z dokładnością do 2 miejsc po przecinku.\n"
          ]
        }
      ]
    },
    {
      "cell_type": "markdown",
      "source": [
        "Zadanie: Obliczanie średniej arytmetycznej\n",
        "\n",
        "    Napisz program, który obliczy średnią arytmetyczną z podanych liczb.\n",
        "\n",
        "Instrukcje:\n",
        "\n",
        "    Zdefiniuj funkcję oblicz_srednia, która przyjmie listę liczb jako parametr.\n",
        "    Wewnątrz funkcji, użyj pętli for do iteracji po elementach listy i obliczenia sumy tych liczb.\n",
        "    Oblicz średnią arytmetyczną, dzieląc sumę przez liczbę elementów w liście.\n",
        "    Zwróć obliczoną średnią z funkcji.\n",
        "    Poproś użytkownika o wprowadzenie listy liczb.\n",
        "    Przekształć wprowadzoną listę w listę liczb za pomocą metody split().\n",
        "    Wywołaj funkcję oblicz_srednia przekazując przekształconą listę jako argument.\n",
        "    Wyświetl obliczoną średnią.\n"
      ],
      "metadata": {
        "id": "GqcLmNl3X135"
      }
    },
    {
      "cell_type": "code",
      "source": [
        "def oblicz_srednia(ll):\n",
        "# zostawiam iteracyjnie (chociaż rozwlekłe), bo tak było w poleceniu do zadania\n",
        "  s = 0\n",
        "  for i in ll:\n",
        "    s += i\n",
        "  return s / len(ll)\n",
        "\n",
        "# ale tu 1 liner...\n",
        "print(oblicz_srednia([float(x) for x in input('Podaj listę liczb rozdzielone spacją: ').split(sep = ' ')]))"
      ],
      "metadata": {
        "colab": {
          "base_uri": "https://localhost:8080/"
        },
        "id": "VEMUJ7R2X0fl",
        "outputId": "9e78d931-e621-4ff7-de97-d446cd4b24c4"
      },
      "execution_count": null,
      "outputs": [
        {
          "output_type": "stream",
          "name": "stdout",
          "text": [
            "Podaj listę liczb rozdzielone spacją: 2 3 4\n",
            "3.0\n"
          ]
        }
      ]
    }
  ]
}