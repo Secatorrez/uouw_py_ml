{
  "nbformat": 4,
  "nbformat_minor": 0,
  "metadata": {
    "colab": {
      "provenance": [],
      "authorship_tag": "ABX9TyMzVDLL6lOplNp7TT21uT3j",
      "include_colab_link": true
    },
    "kernelspec": {
      "name": "python3",
      "display_name": "Python 3"
    },
    "language_info": {
      "name": "python"
    }
  },
  "cells": [
    {
      "cell_type": "markdown",
      "metadata": {
        "id": "view-in-github",
        "colab_type": "text"
      },
      "source": [
        "<a href=\"https://colab.research.google.com/github/Secatorrez/uouw_py_ml/blob/main/kawalki_na_boku.ipynb\" target=\"_parent\"><img src=\"https://colab.research.google.com/assets/colab-badge.svg\" alt=\"Open In Colab\"/></a>"
      ]
    },
    {
      "cell_type": "code",
      "execution_count": null,
      "metadata": {
        "colab": {
          "base_uri": "https://localhost:8080/"
        },
        "id": "RnGEFCoEVn5h",
        "outputId": "eb19735f-a7a3-405e-c2d7-db19fb200e81"
      },
      "outputs": [
        {
          "output_type": "stream",
          "name": "stdout",
          "text": [
            "The youngest child is Najmlodszy\n"
          ]
        }
      ],
      "source": [
        "def my_function(*kids):\n",
        "\tile = len(kids)\n",
        "\t#print(ile)\n",
        "\tprint(\"The youngest child is \" + kids[ile-1])\n",
        "\n",
        "my_function(\"Emil\", \"Tobias\", \"Linus\", \"Najmlodszy\")"
      ]
    },
    {
      "cell_type": "code",
      "source": [
        "# tescik array z numpy i zamiana w macierz\n",
        "import numpy as np\n",
        "a1 = np.array([1,2,3])\n",
        "a2 = np.array([4,5,6])\n",
        "a3 = np.array([7,8,9])\n",
        "amatrix = np.block([[a1], [a2], [a3]])\n",
        "print(amatrix)\n",
        "print(amatrix[0])\n",
        "print(amatrix[1])\n",
        "print(amatrix[2])"
      ],
      "metadata": {
        "colab": {
          "base_uri": "https://localhost:8080/"
        },
        "id": "7lqTrl65n4Wb",
        "outputId": "d8f6a494-a6b0-4a9a-92d7-0a1f414e68f7"
      },
      "execution_count": null,
      "outputs": [
        {
          "output_type": "stream",
          "name": "stdout",
          "text": [
            "[[1 2 3]\n",
            " [4 5 6]\n",
            " [7 8 9]]\n",
            "[1 2 3]\n",
            "[4 5 6]\n",
            "[7 8 9]\n"
          ]
        }
      ]
    },
    {
      "cell_type": "markdown",
      "source": [
        "---\n",
        "**TTTTT**\n",
        "\n",
        "\n",
        "---\n",
        "\n"
      ],
      "metadata": {
        "id": "sItBHKM5ekfY"
      }
    },
    {
      "cell_type": "code",
      "source": [
        "from math import sqrt, pi\n",
        "\n",
        "radius = 3.5\n",
        "area = pi * sqrt(radius)\n",
        "area1 = pi * radius *radius\n",
        "\n",
        "print(\"Promień:\", radius)\n",
        "print(\"Powierzchnia:\", area)\n",
        "print(\"Powierzchnia1:\", area1)"
      ],
      "metadata": {
        "colab": {
          "base_uri": "https://localhost:8080/"
        },
        "id": "2axOW_YDVXJx",
        "outputId": "efeeac15-7db8-4781-a42a-67b2cf70d2e3"
      },
      "execution_count": null,
      "outputs": [
        {
          "output_type": "stream",
          "name": "stdout",
          "text": [
            "Promień: 3.5\n",
            "Powierzchnia: 5.877381679269498\n",
            "Powierzchnia1: 38.48451000647496\n"
          ]
        }
      ]
    },
    {
      "cell_type": "code",
      "source": [
        "intchars = [\"1\", \"5\", \"4\"]\n",
        "\n",
        "newlist = [float(x) for x in intchars]\n",
        "\n",
        "print(newlist)"
      ],
      "metadata": {
        "colab": {
          "base_uri": "https://localhost:8080/"
        },
        "id": "tu6O9UAlcpYQ",
        "outputId": "07d62809-bbe1-454c-d5f8-d353e9f8552a"
      },
      "execution_count": null,
      "outputs": [
        {
          "output_type": "stream",
          "name": "stdout",
          "text": [
            "[1.0, 5.0, 4.0]\n"
          ]
        }
      ]
    }
  ]
}